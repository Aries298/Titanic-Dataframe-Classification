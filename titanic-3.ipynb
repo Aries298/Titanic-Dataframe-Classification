{
 "cells": [
  {
   "cell_type": "code",
   "execution_count": 1,
   "id": "declared-conviction",
   "metadata": {
    "_cell_guid": "b1076dfc-b9ad-4769-8c92-a6c4dae69d19",
    "_uuid": "8f2839f25d086af736a60e9eeb907d3b93b6e0e5",
    "execution": {
     "iopub.execute_input": "2021-06-20T18:17:36.000305Z",
     "iopub.status.busy": "2021-06-20T18:17:35.999382Z",
     "iopub.status.idle": "2021-06-20T18:17:37.871685Z",
     "shell.execute_reply": "2021-06-20T18:17:37.872174Z",
     "shell.execute_reply.started": "2021-06-20T17:49:49.156279Z"
    },
    "papermill": {
     "duration": 1.915144,
     "end_time": "2021-06-20T18:17:37.872561",
     "exception": false,
     "start_time": "2021-06-20T18:17:35.957417",
     "status": "completed"
    },
    "tags": []
   },
   "outputs": [
    {
     "name": "stdout",
     "output_type": "stream",
     "text": [
      "/kaggle/input/titanic/train.csv\n",
      "/kaggle/input/titanic/test.csv\n",
      "/kaggle/input/titanic/gender_submission.csv\n"
     ]
    }
   ],
   "source": [
    "# This Python 3 environment comes with many helpful analytics libraries installed\n",
    "# It is defined by the kaggle/python Docker image: https://github.com/kaggle/docker-python\n",
    "# For example, here's several helpful packages to load\n",
    "\n",
    "import numpy as np # linear algebra\n",
    "import pandas as pd # data processing, CSV file I/O (e.g. pd.read_csv)\n",
    "import seaborn as sns\n",
    "import matplotlib.pyplot as plt\n",
    "sns.set()\n",
    "\n",
    "from IPython.display import clear_output\n",
    "# Input data files are available in the read-only \"../input/\" directory\n",
    "# For example, running this (by clicking run or pressing Shift+Enter) will list all files under the input directory\n",
    "\n",
    "import os\n",
    "for dirname, _, filenames in os.walk('/kaggle/input'):\n",
    "    for filename in filenames:\n",
    "        print(os.path.join(dirname, filename))\n",
    "\n",
    "# You can write up to 20GB to the current directory (/kaggle/working/) that gets preserved as output when you create a version using \"Save & Run All\" \n",
    "# You can also write temporary files to /kaggle/temp/, but they won't be saved outside of the current session\n",
    "\n",
    "from sklearn.metrics import mean_absolute_error,accuracy_score, classification_report\n",
    "from sklearn.model_selection import train_test_split\n",
    "from sklearn.tree import DecisionTreeRegressor, DecisionTreeClassifier\n",
    "from sklearn.neighbors import KNeighborsClassifier  \n",
    "from sklearn import svm  \n",
    "from sklearn.svm import SVC\n",
    "from sklearn.linear_model import LogisticRegression\n",
    "from sklearn.ensemble import RandomForestClassifier, RandomForestRegressor\n",
    "import xgboost as xgb\n",
    "from sklearn.naive_bayes import GaussianNB\n",
    "\n",
    "import matplotlib.pyplot as plt\n",
    "%matplotlib inline\n",
    "from matplotlib.ticker import StrMethodFormatter\n",
    "from sklearn.preprocessing import StandardScaler, MinMaxScaler, LabelBinarizer\n",
    "\n",
    "test_file_path = '../input/titanic/test.csv'\n",
    "train_file_path = '../input/titanic/train.csv'\n",
    "gender_data_path = '../input/titanic/gender_submission.csv'\n",
    "\n",
    "test_data = pd.read_csv(test_file_path)\n",
    "train_data = pd.read_csv(train_file_path)\n",
    "gender_data = pd.read_csv(gender_data_path)"
   ]
  },
  {
   "cell_type": "code",
   "execution_count": 2,
   "id": "exciting-things",
   "metadata": {
    "execution": {
     "iopub.execute_input": "2021-06-20T18:17:37.940909Z",
     "iopub.status.busy": "2021-06-20T18:17:37.939895Z",
     "iopub.status.idle": "2021-06-20T18:17:37.967022Z",
     "shell.execute_reply": "2021-06-20T18:17:37.966315Z",
     "shell.execute_reply.started": "2021-06-20T17:51:43.795735Z"
    },
    "papermill": {
     "duration": 0.068862,
     "end_time": "2021-06-20T18:17:37.967177",
     "exception": false,
     "start_time": "2021-06-20T18:17:37.898315",
     "status": "completed"
    },
    "tags": []
   },
   "outputs": [],
   "source": [
    "#AGE\n",
    "data = [train_data, test_data]\n",
    "for dataset in data:\n",
    "    mean = train_data[\"Age\"].mean()\n",
    "    std = test_data[\"Age\"].std()\n",
    "    is_null = dataset[\"Age\"].isnull().sum()\n",
    "    # compute random numbers between the mean, std and is_null\n",
    "    rand_age = np.random.randint(mean - std, mean + std, size = is_null)\n",
    "    # fill NaN values in Age column with random values generated\n",
    "    age_slice = dataset[\"Age\"].copy()\n",
    "    age_slice[np.isnan(age_slice)] = rand_age\n",
    "    dataset[\"Age\"] = age_slice\n",
    "    dataset[\"Age\"] = train_data[\"Age\"].astype(int)"
   ]
  },
  {
   "cell_type": "code",
   "execution_count": 3,
   "id": "collectible-emperor",
   "metadata": {
    "execution": {
     "iopub.execute_input": "2021-06-20T18:17:38.024140Z",
     "iopub.status.busy": "2021-06-20T18:17:38.023418Z",
     "iopub.status.idle": "2021-06-20T18:17:38.318146Z",
     "shell.execute_reply": "2021-06-20T18:17:38.317642Z",
     "shell.execute_reply.started": "2021-06-20T17:51:47.063416Z"
    },
    "papermill": {
     "duration": 0.324002,
     "end_time": "2021-06-20T18:17:38.318304",
     "exception": false,
     "start_time": "2021-06-20T18:17:37.994302",
     "status": "completed"
    },
    "tags": []
   },
   "outputs": [
    {
     "data": {
      "image/png": "[encoded data removed]",
      "text/plain": [
       "<Figure size 432x288 with 1 Axes>"
      ]
     },
     "metadata": {
      "needs_background": "light"
     },
     "output_type": "display_data"
    }
   ],
   "source": [
    "sns.barplot(x='Pclass', y='Survived', data=train_data);"
   ]
  },
  {
   "cell_type": "code",
   "execution_count": 4,
   "id": "measured-release",
   "metadata": {
    "execution": {
     "iopub.execute_input": "2021-06-20T18:17:38.373835Z",
     "iopub.status.busy": "2021-06-20T18:17:38.371312Z",
     "iopub.status.idle": "2021-06-20T18:17:38.377732Z",
     "shell.execute_reply": "2021-06-20T18:17:38.377046Z",
     "shell.execute_reply.started": "2021-06-20T17:51:49.008016Z"
    },
    "papermill": {
     "duration": 0.03633,
     "end_time": "2021-06-20T18:17:38.377931",
     "exception": false,
     "start_time": "2021-06-20T18:17:38.341601",
     "status": "completed"
    },
    "tags": []
   },
   "outputs": [],
   "source": [
    "embarked_mode = train_data['Embarked'].mode()\n",
    "data = [train_data, test_data]\n",
    "for dataset in data:\n",
    "    dataset['Embarked'] = dataset['Embarked'].fillna(embarked_mode)"
   ]
  },
  {
   "cell_type": "code",
   "execution_count": 5,
   "id": "warming-passing",
   "metadata": {
    "execution": {
     "iopub.execute_input": "2021-06-20T18:17:38.428633Z",
     "iopub.status.busy": "2021-06-20T18:17:38.427915Z",
     "iopub.status.idle": "2021-06-20T18:17:39.829368Z",
     "shell.execute_reply": "2021-06-20T18:17:39.828756Z",
     "shell.execute_reply.started": "2021-06-20T17:51:51.757564Z"
    },
    "papermill": {
     "duration": 1.428948,
     "end_time": "2021-06-20T18:17:39.829545",
     "exception": false,
     "start_time": "2021-06-20T18:17:38.400597",
     "status": "completed"
    },
    "tags": []
   },
   "outputs": [
    {
     "name": "stderr",
     "output_type": "stream",
     "text": [
      "/opt/conda/lib/python3.7/site-packages/seaborn/axisgrid.py:316: UserWarning: The `size` parameter has been renamed to `height`; please update your code.\n",
      "  warnings.warn(msg, UserWarning)\n"
     ]
    },
    {
     "data": {
      "image/png": "[encoded data removed]",
      "text/plain": [
       "<Figure size 596.375x972 with 3 Axes>"
      ]
     },
     "metadata": {
      "needs_background": "light"
     },
     "output_type": "display_data"
    }
   ],
   "source": [
    "FacetGrid = sns.FacetGrid(train_data, row='Embarked', size=4.5, aspect=1.6)\n",
    "FacetGrid.map(sns.pointplot, 'Pclass', 'Survived', 'Sex', order=None, hue_order=None )\n",
    "FacetGrid.add_legend();"
   ]
  },
  {
   "cell_type": "code",
   "execution_count": 6,
   "id": "introductory-disability",
   "metadata": {
    "execution": {
     "iopub.execute_input": "2021-06-20T18:17:39.887787Z",
     "iopub.status.busy": "2021-06-20T18:17:39.886821Z",
     "iopub.status.idle": "2021-06-20T18:17:40.543559Z",
     "shell.execute_reply": "2021-06-20T18:17:40.544019Z",
     "shell.execute_reply.started": "2021-06-20T17:51:55.945778Z"
    },
    "papermill": {
     "duration": 0.689278,
     "end_time": "2021-06-20T18:17:40.544216",
     "exception": false,
     "start_time": "2021-06-20T18:17:39.854938",
     "status": "completed"
    },
    "tags": []
   },
   "outputs": [
    {
     "name": "stderr",
     "output_type": "stream",
     "text": [
      "/opt/conda/lib/python3.7/site-packages/seaborn/categorical.py:3714: UserWarning: The `factorplot` function has been renamed to `catplot`. The original name will be removed in a future release. Please update your code. Note that the default `kind` in `factorplot` (`'point'`) has changed `'strip'` in `catplot`.\n",
      "  warnings.warn(msg)\n",
      "/opt/conda/lib/python3.7/site-packages/seaborn/_decorators.py:43: FutureWarning: Pass the following variables as keyword args: x, y. From version 0.12, the only valid positional argument will be `data`, and passing other arguments without an explicit keyword will result in an error or misinterpretation.\n",
      "  FutureWarning\n"
     ]
    },
    {
     "data": {
      "image/png": "[encoded data removed]",
      "text/plain": [
       "<Figure size 900x360 with 1 Axes>"
      ]
     },
     "metadata": {
      "needs_background": "light"
     },
     "output_type": "display_data"
    }
   ],
   "source": [
    "data = [train_data, test_data]\n",
    "for dataset in data:\n",
    "    dataset['relatives'] = dataset['SibSp'] + dataset['Parch']\n",
    "    dataset.loc[dataset['relatives'] > 0, 'travelled_alone'] = 'No'\n",
    "    dataset.loc[dataset['relatives'] == 0, 'travelled_alone'] = 'Yes'\n",
    "axes = sns.factorplot('relatives','Survived', \n",
    "                      data=train_data, aspect = 2.5, );"
   ]
  },
  {
   "cell_type": "code",
   "execution_count": 7,
   "id": "associate-validity",
   "metadata": {
    "execution": {
     "iopub.execute_input": "2021-06-20T18:17:40.604548Z",
     "iopub.status.busy": "2021-06-20T18:17:40.603792Z",
     "iopub.status.idle": "2021-06-20T18:17:40.607303Z",
     "shell.execute_reply": "2021-06-20T18:17:40.606660Z",
     "shell.execute_reply.started": "2021-06-20T17:51:59.137513Z"
    },
    "papermill": {
     "duration": 0.03752,
     "end_time": "2021-06-20T18:17:40.607442",
     "exception": false,
     "start_time": "2021-06-20T18:17:40.569922",
     "status": "completed"
    },
    "tags": []
   },
   "outputs": [],
   "source": [
    "param_test1 = {\n",
    "    'n_estimators': [100,200,500,750,1000],\n",
    "    'max_depth': [3,5,7,9],\n",
    "    'min_child_weight': [1,3,5],\n",
    "    'gamma':[i/10.0 for i in range(0,5)],\n",
    "    'subsample':[i/10.0 for i in range(6,10)],\n",
    "    'colsample_bytree':[i/10.0 for i in range(6,10)],\n",
    "    'reg_alpha':[0, 0.001, 0.005, 0.01, 0.05, 0.1, 1],\n",
    "    'learning_rate': [0.01, 0.02, 0.05, 0.1]\n",
    "}"
   ]
  },
  {
   "cell_type": "code",
   "execution_count": 8,
   "id": "judicial-version",
   "metadata": {
    "execution": {
     "iopub.execute_input": "2021-06-20T18:17:40.663472Z",
     "iopub.status.busy": "2021-06-20T18:17:40.662769Z",
     "iopub.status.idle": "2021-06-20T18:17:40.666015Z",
     "shell.execute_reply": "2021-06-20T18:17:40.665450Z",
     "shell.execute_reply.started": "2021-06-20T17:42:39.345007Z"
    },
    "papermill": {
     "duration": 0.033337,
     "end_time": "2021-06-20T18:17:40.666174",
     "exception": false,
     "start_time": "2021-06-20T18:17:40.632837",
     "status": "completed"
    },
    "tags": []
   },
   "outputs": [],
   "source": [
    "# from sklearn import preprocessing\n",
    "# train_numerical_features = list(train_data.select_dtypes(include=['int64', 'float64', 'int32']).columns)\n",
    "# ss_scaler = StandardScaler()\n",
    "# train_data_ss = pd.DataFrame(data = train_data)\n",
    "# train_data[train_numerical_features] = ss_scaler.fit_transform(train_data_ss[train_numerical_features]).astype('float64')\n",
    "\n",
    "# lab_enc = preprocessing.LabelEncoder()\n",
    "# train_data = lab_enc.fit_transform(train_data)"
   ]
  },
  {
   "cell_type": "code",
   "execution_count": 9,
   "id": "manual-complaint",
   "metadata": {
    "execution": {
     "iopub.execute_input": "2021-06-20T18:17:40.721874Z",
     "iopub.status.busy": "2021-06-20T18:17:40.721088Z",
     "iopub.status.idle": "2021-06-20T18:17:40.723371Z",
     "shell.execute_reply": "2021-06-20T18:17:40.723899Z",
     "shell.execute_reply.started": "2021-06-20T17:38:01.027735Z"
    },
    "papermill": {
     "duration": 0.032541,
     "end_time": "2021-06-20T18:17:40.724065",
     "exception": false,
     "start_time": "2021-06-20T18:17:40.691524",
     "status": "completed"
    },
    "tags": []
   },
   "outputs": [],
   "source": [
    "# test_numerical_features = list(test_data.select_dtypes(include=['int64', 'float64', 'int32']).columns)\n",
    "# ss_scaler = StandardScaler()\n",
    "# test_data_ss = pd.DataFrame(data = test_data)\n",
    "# test_data[test_numerical_features] = ss_scaler.fit_transform(test_data_ss[test_numerical_features]).astype('float64')\n",
    "\n",
    "# lab_enc = preprocessing.LabelEncoder()\n",
    "# training_scores_encoded = lab_enc.fit_transform(training_scores_Y)"
   ]
  },
  {
   "cell_type": "code",
   "execution_count": 10,
   "id": "entitled-album",
   "metadata": {
    "execution": {
     "iopub.execute_input": "2021-06-20T18:17:40.778452Z",
     "iopub.status.busy": "2021-06-20T18:17:40.777745Z",
     "iopub.status.idle": "2021-06-20T18:17:40.782654Z",
     "shell.execute_reply": "2021-06-20T18:17:40.783140Z",
     "shell.execute_reply.started": "2021-06-20T17:52:03.647409Z"
    },
    "papermill": {
     "duration": 0.033955,
     "end_time": "2021-06-20T18:17:40.783332",
     "exception": false,
     "start_time": "2021-06-20T18:17:40.749377",
     "status": "completed"
    },
    "tags": []
   },
   "outputs": [],
   "source": [
    "def defsex(passenger):\n",
    "    age,sex = passenger\n",
    "    if age < 16:\n",
    "        return 2\n",
    "    if sex == 'male':\n",
    "        return 0\n",
    "    else:\n",
    "        return 1"
   ]
  },
  {
   "cell_type": "code",
   "execution_count": 11,
   "id": "italic-wheat",
   "metadata": {
    "execution": {
     "iopub.execute_input": "2021-06-20T18:17:40.837543Z",
     "iopub.status.busy": "2021-06-20T18:17:40.836838Z",
     "iopub.status.idle": "2021-06-20T18:17:40.841684Z",
     "shell.execute_reply": "2021-06-20T18:17:40.842191Z",
     "shell.execute_reply.started": "2021-06-20T17:52:05.449862Z"
    },
    "papermill": {
     "duration": 0.033856,
     "end_time": "2021-06-20T18:17:40.842376",
     "exception": false,
     "start_time": "2021-06-20T18:17:40.808520",
     "status": "completed"
    },
    "tags": []
   },
   "outputs": [],
   "source": [
    "def defemb(passenger):\n",
    "    embark = passenger\n",
    "    if embark == \"S\":\n",
    "        return 0\n",
    "    if embark == \"C\":\n",
    "        return 1\n",
    "    if embark == \"Q\":\n",
    "        return 2"
   ]
  },
  {
   "cell_type": "code",
   "execution_count": 12,
   "id": "interim-watts",
   "metadata": {
    "execution": {
     "iopub.execute_input": "2021-06-20T18:17:40.898903Z",
     "iopub.status.busy": "2021-06-20T18:17:40.898271Z",
     "iopub.status.idle": "2021-06-20T18:17:40.900832Z",
     "shell.execute_reply": "2021-06-20T18:17:40.901374Z",
     "shell.execute_reply.started": "2021-06-20T17:53:44.597278Z"
    },
    "papermill": {
     "duration": 0.03372,
     "end_time": "2021-06-20T18:17:40.901554",
     "exception": false,
     "start_time": "2021-06-20T18:17:40.867834",
     "status": "completed"
    },
    "tags": []
   },
   "outputs": [],
   "source": [
    "def deftrav(passenger):\n",
    "    trav = passenger\n",
    "    if trav == \"yes\":\n",
    "        return 1\n",
    "    if trav == \"no\":\n",
    "        return 0"
   ]
  },
  {
   "cell_type": "code",
   "execution_count": 13,
   "id": "dietary-chapter",
   "metadata": {
    "execution": {
     "iopub.execute_input": "2021-06-20T18:17:40.962878Z",
     "iopub.status.busy": "2021-06-20T18:17:40.961684Z",
     "iopub.status.idle": "2021-06-20T18:17:40.990620Z",
     "shell.execute_reply": "2021-06-20T18:17:40.989782Z",
     "shell.execute_reply.started": "2021-06-20T17:53:46.121630Z"
    },
    "papermill": {
     "duration": 0.063739,
     "end_time": "2021-06-20T18:17:40.990815",
     "exception": false,
     "start_time": "2021-06-20T18:17:40.927076",
     "status": "completed"
    },
    "tags": []
   },
   "outputs": [],
   "source": [
    "#Binarize sex\n",
    "train_data['Sex'] = train_data[['Age','Sex']].apply(defsex,axis=1)\n",
    "test_data['Sex']  = test_data[['Age','Sex']].apply(defsex,axis=1)\n",
    "\n",
    "train_data['Embarked'] = train_data['Embarked'].apply(defemb)\n",
    "test_data['Embarked'] = test_data['Embarked'].apply(defemb)\n",
    "\n",
    "train_data['travelled_alone'] = train_data['travelled_alone'].apply(deftrav)\n",
    "test_data['travelled_alone'] = test_data['travelled_alone'].apply(deftrav)"
   ]
  },
  {
   "cell_type": "code",
   "execution_count": 14,
   "id": "urban-horse",
   "metadata": {
    "execution": {
     "iopub.execute_input": "2021-06-20T18:17:41.054839Z",
     "iopub.status.busy": "2021-06-20T18:17:41.054081Z",
     "iopub.status.idle": "2021-06-20T18:17:41.057357Z",
     "shell.execute_reply": "2021-06-20T18:17:41.057896Z",
     "shell.execute_reply.started": "2021-06-20T17:56:18.971431Z"
    },
    "papermill": {
     "duration": 0.039048,
     "end_time": "2021-06-20T18:17:41.058093",
     "exception": false,
     "start_time": "2021-06-20T18:17:41.019045",
     "status": "completed"
    },
    "tags": []
   },
   "outputs": [
    {
     "data": {
      "text/plain": [
       "PassengerId          0\n",
       "Survived             0\n",
       "Pclass               0\n",
       "Name                 0\n",
       "Sex                  0\n",
       "Age                  0\n",
       "SibSp                0\n",
       "Parch                0\n",
       "Ticket               0\n",
       "Fare                 0\n",
       "Cabin              687\n",
       "Embarked             2\n",
       "relatives            0\n",
       "travelled_alone    891\n",
       "dtype: int64"
      ]
     },
     "execution_count": 14,
     "metadata": {},
     "output_type": "execute_result"
    }
   ],
   "source": [
    "train_data.isnull().sum()"
   ]
  },
  {
   "cell_type": "code",
   "execution_count": 15,
   "id": "powered-driving",
   "metadata": {
    "execution": {
     "iopub.execute_input": "2021-06-20T18:17:41.116880Z",
     "iopub.status.busy": "2021-06-20T18:17:41.116177Z",
     "iopub.status.idle": "2021-06-20T18:17:41.332463Z",
     "shell.execute_reply": "2021-06-20T18:17:41.331714Z",
     "shell.execute_reply.started": "2021-06-20T18:01:49.632605Z"
    },
    "papermill": {
     "duration": 0.247019,
     "end_time": "2021-06-20T18:17:41.332639",
     "exception": false,
     "start_time": "2021-06-20T18:17:41.085620",
     "status": "completed"
    },
    "tags": []
   },
   "outputs": [
    {
     "name": "stderr",
     "output_type": "stream",
     "text": [
      "/opt/conda/lib/python3.7/site-packages/imblearn/utils/_validation.py:300: UserWarning: After over-sampling, the number of samples (10000) in class 0 will be larger than the number of samples in the majority class (class #0 -> 549)\n",
      "  f\"After over-sampling, the number of samples ({n_samples})\"\n",
      "/opt/conda/lib/python3.7/site-packages/imblearn/utils/_validation.py:300: UserWarning: After over-sampling, the number of samples (10000) in class 1 will be larger than the number of samples in the majority class (class #0 -> 549)\n",
      "  f\"After over-sampling, the number of samples ({n_samples})\"\n"
     ]
    }
   ],
   "source": [
    "from imblearn.over_sampling import SMOTE\n",
    "sm = SMOTE(sampling_strategy = {0: 10000, 1: 10000})\n",
    "X_test_os,y_test_os = sm.fit_resample(train_data.drop(['Survived',\"Name\",'Ticket',\"Cabin\",\"Embarked\",\"travelled_alone\"],axis=1),train_data['Survived'])"
   ]
  },
  {
   "cell_type": "code",
   "execution_count": 16,
   "id": "mathematical-sussex",
   "metadata": {
    "execution": {
     "iopub.execute_input": "2021-06-20T18:17:41.392742Z",
     "iopub.status.busy": "2021-06-20T18:17:41.392050Z",
     "iopub.status.idle": "2021-06-20T18:17:41.397283Z",
     "shell.execute_reply": "2021-06-20T18:17:41.396604Z",
     "shell.execute_reply.started": "2021-06-20T18:11:38.627378Z"
    },
    "papermill": {
     "duration": 0.038244,
     "end_time": "2021-06-20T18:17:41.397457",
     "exception": false,
     "start_time": "2021-06-20T18:17:41.359213",
     "status": "completed"
    },
    "tags": []
   },
   "outputs": [
    {
     "data": {
      "text/plain": [
       "Index(['PassengerId', 'Survived', 'Pclass', 'Name', 'Sex', 'Age', 'SibSp',\n",
       "       'Parch', 'Ticket', 'Fare', 'Cabin', 'Embarked', 'relatives',\n",
       "       'travelled_alone'],\n",
       "      dtype='object')"
      ]
     },
     "execution_count": 16,
     "metadata": {},
     "output_type": "execute_result"
    }
   ],
   "source": [
    "train_data.columns"
   ]
  },
  {
   "cell_type": "code",
   "execution_count": 17,
   "id": "beautiful-builder",
   "metadata": {
    "execution": {
     "iopub.execute_input": "2021-06-20T18:17:41.455792Z",
     "iopub.status.busy": "2021-06-20T18:17:41.455034Z",
     "iopub.status.idle": "2021-06-20T18:17:41.460075Z",
     "shell.execute_reply": "2021-06-20T18:17:41.460652Z",
     "shell.execute_reply.started": "2021-06-20T17:36:45.060937Z"
    },
    "papermill": {
     "duration": 0.036074,
     "end_time": "2021-06-20T18:17:41.460847",
     "exception": false,
     "start_time": "2021-06-20T18:17:41.424773",
     "status": "completed"
    },
    "tags": []
   },
   "outputs": [
    {
     "data": {
      "text/plain": [
       "Index(['PassengerId', 'Survived', 'Pclass', 'Name', 'Sex', 'Age', 'SibSp',\n",
       "       'Parch', 'Ticket', 'Fare', 'Cabin', 'Embarked', 'relatives',\n",
       "       'travelled_alone'],\n",
       "      dtype='object')"
      ]
     },
     "execution_count": 17,
     "metadata": {},
     "output_type": "execute_result"
    }
   ],
   "source": [
    "train_data.columns"
   ]
  },
  {
   "cell_type": "code",
   "execution_count": 18,
   "id": "outside-commitment",
   "metadata": {
    "execution": {
     "iopub.execute_input": "2021-06-20T18:17:41.519651Z",
     "iopub.status.busy": "2021-06-20T18:17:41.518884Z",
     "iopub.status.idle": "2021-06-20T18:17:42.100402Z",
     "shell.execute_reply": "2021-06-20T18:17:42.100923Z",
     "shell.execute_reply.started": "2021-06-20T18:01:54.176247Z"
    },
    "papermill": {
     "duration": 0.612672,
     "end_time": "2021-06-20T18:17:42.101126",
     "exception": false,
     "start_time": "2021-06-20T18:17:41.488454",
     "status": "completed"
    },
    "tags": []
   },
   "outputs": [
    {
     "name": "stdout",
     "output_type": "stream",
     "text": [
      "              precision    recall  f1-score   support\n",
      "\n",
      "           0       0.78      0.85      0.81      3034\n",
      "           1       0.83      0.75      0.79      2966\n",
      "\n",
      "    accuracy                           0.80      6000\n",
      "   macro avg       0.80      0.80      0.80      6000\n",
      "weighted avg       0.80      0.80      0.80      6000\n",
      "\n",
      "[[2566  468]\n",
      " [ 736 2230]]\n"
     ]
    }
   ],
   "source": [
    "from sklearn.ensemble import RandomForestClassifier\n",
    "from sklearn.metrics import classification_report,confusion_matrix\n",
    "\n",
    "#data[\"Age\"] = data[\"Age\"].astype(int)\n",
    "#if [\"Age\"]\n",
    "\n",
    "#y = train_data[\"Survived\"]\n",
    "\n",
    "features = [\"Pclass\", \"Sex\", \"SibSp\",'Parch',\"Age\",\"Fare\", \"Embarked\",\"relatives\",\"travelled_alone\"]\n",
    "#X = pd.get_dummies(train_data[features])\n",
    "#X_test = pd.get_dummies(test_data[features])\n",
    "\n",
    "\n",
    "X_train, X_valid, y_train, y_valid = train_test_split(X_test_os,y_test_os,train_size=0.7, test_size=0.3,random_state=42)\n",
    "\n",
    "model = RandomForestClassifier(n_estimators=100, max_depth=3, random_state=42)\n",
    "model.fit(X_train, y_train)\n",
    "#predictions = model.predict(X_test)\n",
    "\n",
    "preds = model.predict(X_valid)\n",
    "\n",
    "print(classification_report(y_valid, preds))\n",
    "print(confusion_matrix(y_valid, preds))\n",
    "\n",
    "#output = pd.DataFrame({'PassengerId': test_data.PassengerId, 'Survived': predictions})\n",
    "#output.to_csv('submission.csv', index=False)"
   ]
  },
  {
   "cell_type": "code",
   "execution_count": 19,
   "id": "systematic-nation",
   "metadata": {
    "execution": {
     "iopub.execute_input": "2021-06-20T18:17:42.162274Z",
     "iopub.status.busy": "2021-06-20T18:17:42.161585Z",
     "iopub.status.idle": "2021-06-20T18:17:42.163827Z",
     "shell.execute_reply": "2021-06-20T18:17:42.164342Z",
     "shell.execute_reply.started": "2021-06-20T18:02:01.248285Z"
    },
    "papermill": {
     "duration": 0.035406,
     "end_time": "2021-06-20T18:17:42.164534",
     "exception": false,
     "start_time": "2021-06-20T18:17:42.129128",
     "status": "completed"
    },
    "tags": []
   },
   "outputs": [],
   "source": [
    "param_test1 = {\n",
    "    'n_estimators': range(10,200,20),\n",
    "    'max_depth': [3,5,7,9],\n",
    "    'criterion' : ['gini', 'entropy']\n",
    "}"
   ]
  },
  {
   "cell_type": "code",
   "execution_count": 20,
   "id": "temporal-commodity",
   "metadata": {
    "execution": {
     "iopub.execute_input": "2021-06-20T18:17:42.222933Z",
     "iopub.status.busy": "2021-06-20T18:17:42.222243Z",
     "iopub.status.idle": "2021-06-20T18:22:40.245592Z",
     "shell.execute_reply": "2021-06-20T18:22:40.244728Z",
     "shell.execute_reply.started": "2021-06-20T18:02:29.665756Z"
    },
    "papermill": {
     "duration": 298.053876,
     "end_time": "2021-06-20T18:22:40.245838",
     "exception": false,
     "start_time": "2021-06-20T18:17:42.191962",
     "status": "completed"
    },
    "tags": []
   },
   "outputs": [
    {
     "name": "stdout",
     "output_type": "stream",
     "text": [
      "Fitting 5 folds for each of 80 candidates, totalling 400 fits\n",
      "[CV] END .......criterion=gini, max_depth=3, n_estimators=10; total time=   0.1s\n",
      "[CV] END .......criterion=gini, max_depth=3, n_estimators=10; total time=   0.2s\n",
      "[CV] END .......criterion=gini, max_depth=3, n_estimators=10; total time=   0.1s\n",
      "[CV] END .......criterion=gini, max_depth=3, n_estimators=10; total time=   0.1s\n",
      "[CV] END .......criterion=gini, max_depth=3, n_estimators=10; total time=   0.1s\n",
      "[CV] END .......criterion=gini, max_depth=3, n_estimators=30; total time=   0.1s\n",
      "[CV] END .......criterion=gini, max_depth=3, n_estimators=30; total time=   0.2s\n",
      "[CV] END .......criterion=gini, max_depth=3, n_estimators=30; total time=   0.2s\n",
      "[CV] END .......criterion=gini, max_depth=3, n_estimators=30; total time=   0.2s\n",
      "[CV] END .......criterion=gini, max_depth=3, n_estimators=30; total time=   0.1s\n",
      "[CV] END .......criterion=gini, max_depth=3, n_estimators=50; total time=   0.2s\n",
      "[CV] END .......criterion=gini, max_depth=3, n_estimators=50; total time=   0.2s\n",
      "[CV] END .......criterion=gini, max_depth=3, n_estimators=50; total time=   0.2s\n",
      "[CV] END .......criterion=gini, max_depth=3, n_estimators=50; total time=   0.3s\n",
      "[CV] END .......criterion=gini, max_depth=3, n_estimators=50; total time=   0.2s\n",
      "[CV] END .......criterion=gini, max_depth=3, n_estimators=70; total time=   0.4s\n",
      "[CV] END .......criterion=gini, max_depth=3, n_estimators=70; total time=   0.4s\n",
      "[CV] END .......criterion=gini, max_depth=3, n_estimators=70; total time=   0.4s\n",
      "[CV] END .......criterion=gini, max_depth=3, n_estimators=70; total time=   0.4s\n",
      "[CV] END .......criterion=gini, max_depth=3, n_estimators=70; total time=   0.4s\n",
      "[CV] END .......criterion=gini, max_depth=3, n_estimators=90; total time=   0.5s\n",
      "[CV] END .......criterion=gini, max_depth=3, n_estimators=90; total time=   0.5s\n",
      "[CV] END .......criterion=gini, max_depth=3, n_estimators=90; total time=   0.5s\n",
      "[CV] END .......criterion=gini, max_depth=3, n_estimators=90; total time=   0.5s\n",
      "[CV] END .......criterion=gini, max_depth=3, n_estimators=90; total time=   0.4s\n",
      "[CV] END ......criterion=gini, max_depth=3, n_estimators=110; total time=   0.6s\n",
      "[CV] END ......criterion=gini, max_depth=3, n_estimators=110; total time=   0.6s\n",
      "[CV] END ......criterion=gini, max_depth=3, n_estimators=110; total time=   0.5s\n",
      "[CV] END ......criterion=gini, max_depth=3, n_estimators=110; total time=   0.5s\n",
      "[CV] END ......criterion=gini, max_depth=3, n_estimators=110; total time=   0.5s\n",
      "[CV] END ......criterion=gini, max_depth=3, n_estimators=130; total time=   0.6s\n",
      "[CV] END ......criterion=gini, max_depth=3, n_estimators=130; total time=   0.6s\n",
      "[CV] END ......criterion=gini, max_depth=3, n_estimators=130; total time=   0.6s\n",
      "[CV] END ......criterion=gini, max_depth=3, n_estimators=130; total time=   0.6s\n",
      "[CV] END ......criterion=gini, max_depth=3, n_estimators=130; total time=   0.6s\n",
      "[CV] END ......criterion=gini, max_depth=3, n_estimators=150; total time=   0.7s\n",
      "[CV] END ......criterion=gini, max_depth=3, n_estimators=150; total time=   0.7s\n",
      "[CV] END ......criterion=gini, max_depth=3, n_estimators=150; total time=   0.7s\n",
      "[CV] END ......criterion=gini, max_depth=3, n_estimators=150; total time=   0.8s\n",
      "[CV] END ......criterion=gini, max_depth=3, n_estimators=150; total time=   0.8s\n",
      "[CV] END ......criterion=gini, max_depth=3, n_estimators=170; total time=   0.9s\n",
      "[CV] END ......criterion=gini, max_depth=3, n_estimators=170; total time=   0.9s\n",
      "[CV] END ......criterion=gini, max_depth=3, n_estimators=170; total time=   0.8s\n",
      "[CV] END ......criterion=gini, max_depth=3, n_estimators=170; total time=   0.8s\n",
      "[CV] END ......criterion=gini, max_depth=3, n_estimators=170; total time=   0.8s\n",
      "[CV] END ......criterion=gini, max_depth=3, n_estimators=190; total time=   0.9s\n",
      "[CV] END ......criterion=gini, max_depth=3, n_estimators=190; total time=   0.9s\n",
      "[CV] END ......criterion=gini, max_depth=3, n_estimators=190; total time=   1.0s\n",
      "[CV] END ......criterion=gini, max_depth=3, n_estimators=190; total time=   0.9s\n",
      "[CV] END ......criterion=gini, max_depth=3, n_estimators=190; total time=   1.0s\n",
      "[CV] END .......criterion=gini, max_depth=5, n_estimators=10; total time=   0.1s\n",
      "[CV] END .......criterion=gini, max_depth=5, n_estimators=10; total time=   0.1s\n",
      "[CV] END .......criterion=gini, max_depth=5, n_estimators=10; total time=   0.1s\n",
      "[CV] END .......criterion=gini, max_depth=5, n_estimators=10; total time=   0.1s\n",
      "[CV] END .......criterion=gini, max_depth=5, n_estimators=10; total time=   0.1s\n",
      "[CV] END .......criterion=gini, max_depth=5, n_estimators=30; total time=   0.2s\n",
      "[CV] END .......criterion=gini, max_depth=5, n_estimators=30; total time=   0.2s\n",
      "[CV] END .......criterion=gini, max_depth=5, n_estimators=30; total time=   0.2s\n",
      "[CV] END .......criterion=gini, max_depth=5, n_estimators=30; total time=   0.2s\n",
      "[CV] END .......criterion=gini, max_depth=5, n_estimators=30; total time=   0.2s\n",
      "[CV] END .......criterion=gini, max_depth=5, n_estimators=50; total time=   0.3s\n",
      "[CV] END .......criterion=gini, max_depth=5, n_estimators=50; total time=   0.3s\n",
      "[CV] END .......criterion=gini, max_depth=5, n_estimators=50; total time=   0.3s\n",
      "[CV] END .......criterion=gini, max_depth=5, n_estimators=50; total time=   0.3s\n",
      "[CV] END .......criterion=gini, max_depth=5, n_estimators=50; total time=   0.3s\n",
      "[CV] END .......criterion=gini, max_depth=5, n_estimators=70; total time=   0.4s\n",
      "[CV] END .......criterion=gini, max_depth=5, n_estimators=70; total time=   0.4s\n",
      "[CV] END .......criterion=gini, max_depth=5, n_estimators=70; total time=   0.5s\n",
      "[CV] END .......criterion=gini, max_depth=5, n_estimators=70; total time=   0.4s\n",
      "[CV] END .......criterion=gini, max_depth=5, n_estimators=70; total time=   0.4s\n",
      "[CV] END .......criterion=gini, max_depth=5, n_estimators=90; total time=   0.6s\n",
      "[CV] END .......criterion=gini, max_depth=5, n_estimators=90; total time=   0.6s\n",
      "[CV] END .......criterion=gini, max_depth=5, n_estimators=90; total time=   0.5s\n",
      "[CV] END .......criterion=gini, max_depth=5, n_estimators=90; total time=   0.5s\n",
      "[CV] END .......criterion=gini, max_depth=5, n_estimators=90; total time=   0.6s\n",
      "[CV] END ......criterion=gini, max_depth=5, n_estimators=110; total time=   0.7s\n",
      "[CV] END ......criterion=gini, max_depth=5, n_estimators=110; total time=   0.7s\n",
      "[CV] END ......criterion=gini, max_depth=5, n_estimators=110; total time=   0.7s\n",
      "[CV] END ......criterion=gini, max_depth=5, n_estimators=110; total time=   0.7s\n",
      "[CV] END ......criterion=gini, max_depth=5, n_estimators=110; total time=   0.7s\n",
      "[CV] END ......criterion=gini, max_depth=5, n_estimators=130; total time=   0.9s\n",
      "[CV] END ......criterion=gini, max_depth=5, n_estimators=130; total time=   0.9s\n",
      "[CV] END ......criterion=gini, max_depth=5, n_estimators=130; total time=   0.8s\n",
      "[CV] END ......criterion=gini, max_depth=5, n_estimators=130; total time=   0.8s\n",
      "[CV] END ......criterion=gini, max_depth=5, n_estimators=130; total time=   0.9s\n",
      "[CV] END ......criterion=gini, max_depth=5, n_estimators=150; total time=   0.9s\n",
      "[CV] END ......criterion=gini, max_depth=5, n_estimators=150; total time=   0.9s\n",
      "[CV] END ......criterion=gini, max_depth=5, n_estimators=150; total time=   0.9s\n",
      "[CV] END ......criterion=gini, max_depth=5, n_estimators=150; total time=   0.9s\n",
      "[CV] END ......criterion=gini, max_depth=5, n_estimators=150; total time=   0.9s\n",
      "[CV] END ......criterion=gini, max_depth=5, n_estimators=170; total time=   1.0s\n",
      "[CV] END ......criterion=gini, max_depth=5, n_estimators=170; total time=   1.0s\n",
      "[CV] END ......criterion=gini, max_depth=5, n_estimators=170; total time=   1.0s\n",
      "[CV] END ......criterion=gini, max_depth=5, n_estimators=170; total time=   1.1s\n",
      "[CV] END ......criterion=gini, max_depth=5, n_estimators=170; total time=   1.0s\n",
      "[CV] END ......criterion=gini, max_depth=5, n_estimators=190; total time=   1.2s\n",
      "[CV] END ......criterion=gini, max_depth=5, n_estimators=190; total time=   1.1s\n",
      "[CV] END ......criterion=gini, max_depth=5, n_estimators=190; total time=   1.2s\n",
      "[CV] END ......criterion=gini, max_depth=5, n_estimators=190; total time=   1.2s\n",
      "[CV] END ......criterion=gini, max_depth=5, n_estimators=190; total time=   1.2s\n",
      "[CV] END .......criterion=gini, max_depth=7, n_estimators=10; total time=   0.1s\n",
      "[CV] END .......criterion=gini, max_depth=7, n_estimators=10; total time=   0.1s\n",
      "[CV] END .......criterion=gini, max_depth=7, n_estimators=10; total time=   0.1s\n",
      "[CV] END .......criterion=gini, max_depth=7, n_estimators=10; total time=   0.1s\n",
      "[CV] END .......criterion=gini, max_depth=7, n_estimators=10; total time=   0.1s\n",
      "[CV] END .......criterion=gini, max_depth=7, n_estimators=30; total time=   0.2s\n",
      "[CV] END .......criterion=gini, max_depth=7, n_estimators=30; total time=   0.2s\n",
      "[CV] END .......criterion=gini, max_depth=7, n_estimators=30; total time=   0.2s\n",
      "[CV] END .......criterion=gini, max_depth=7, n_estimators=30; total time=   0.2s\n",
      "[CV] END .......criterion=gini, max_depth=7, n_estimators=30; total time=   0.2s\n",
      "[CV] END .......criterion=gini, max_depth=7, n_estimators=50; total time=   0.4s\n",
      "[CV] END .......criterion=gini, max_depth=7, n_estimators=50; total time=   0.4s\n",
      "[CV] END .......criterion=gini, max_depth=7, n_estimators=50; total time=   0.4s\n",
      "[CV] END .......criterion=gini, max_depth=7, n_estimators=50; total time=   0.4s\n",
      "[CV] END .......criterion=gini, max_depth=7, n_estimators=50; total time=   0.4s\n",
      "[CV] END .......criterion=gini, max_depth=7, n_estimators=70; total time=   0.5s\n",
      "[CV] END .......criterion=gini, max_depth=7, n_estimators=70; total time=   0.5s\n",
      "[CV] END .......criterion=gini, max_depth=7, n_estimators=70; total time=   0.5s\n",
      "[CV] END .......criterion=gini, max_depth=7, n_estimators=70; total time=   0.5s\n",
      "[CV] END .......criterion=gini, max_depth=7, n_estimators=70; total time=   0.5s\n",
      "[CV] END .......criterion=gini, max_depth=7, n_estimators=90; total time=   0.7s\n",
      "[CV] END .......criterion=gini, max_depth=7, n_estimators=90; total time=   0.7s\n",
      "[CV] END .......criterion=gini, max_depth=7, n_estimators=90; total time=   0.7s\n",
      "[CV] END .......criterion=gini, max_depth=7, n_estimators=90; total time=   0.6s\n",
      "[CV] END .......criterion=gini, max_depth=7, n_estimators=90; total time=   0.6s\n",
      "[CV] END ......criterion=gini, max_depth=7, n_estimators=110; total time=   0.8s\n",
      "[CV] END ......criterion=gini, max_depth=7, n_estimators=110; total time=   0.8s\n",
      "[CV] END ......criterion=gini, max_depth=7, n_estimators=110; total time=   0.8s\n",
      "[CV] END ......criterion=gini, max_depth=7, n_estimators=110; total time=   0.8s\n",
      "[CV] END ......criterion=gini, max_depth=7, n_estimators=110; total time=   0.8s\n",
      "[CV] END ......criterion=gini, max_depth=7, n_estimators=130; total time=   1.0s\n",
      "[CV] END ......criterion=gini, max_depth=7, n_estimators=130; total time=   0.9s\n",
      "[CV] END ......criterion=gini, max_depth=7, n_estimators=130; total time=   0.9s\n",
      "[CV] END ......criterion=gini, max_depth=7, n_estimators=130; total time=   1.0s\n",
      "[CV] END ......criterion=gini, max_depth=7, n_estimators=130; total time=   0.9s\n",
      "[CV] END ......criterion=gini, max_depth=7, n_estimators=150; total time=   1.1s\n",
      "[CV] END ......criterion=gini, max_depth=7, n_estimators=150; total time=   1.1s\n",
      "[CV] END ......criterion=gini, max_depth=7, n_estimators=150; total time=   1.1s\n",
      "[CV] END ......criterion=gini, max_depth=7, n_estimators=150; total time=   1.1s\n",
      "[CV] END ......criterion=gini, max_depth=7, n_estimators=150; total time=   1.1s\n",
      "[CV] END ......criterion=gini, max_depth=7, n_estimators=170; total time=   1.3s\n",
      "[CV] END ......criterion=gini, max_depth=7, n_estimators=170; total time=   1.2s\n",
      "[CV] END ......criterion=gini, max_depth=7, n_estimators=170; total time=   1.3s\n",
      "[CV] END ......criterion=gini, max_depth=7, n_estimators=170; total time=   1.3s\n",
      "[CV] END ......criterion=gini, max_depth=7, n_estimators=170; total time=   1.2s\n",
      "[CV] END ......criterion=gini, max_depth=7, n_estimators=190; total time=   1.4s\n",
      "[CV] END ......criterion=gini, max_depth=7, n_estimators=190; total time=   1.3s\n",
      "[CV] END ......criterion=gini, max_depth=7, n_estimators=190; total time=   1.3s\n",
      "[CV] END ......criterion=gini, max_depth=7, n_estimators=190; total time=   1.4s\n",
      "[CV] END ......criterion=gini, max_depth=7, n_estimators=190; total time=   1.3s\n",
      "[CV] END .......criterion=gini, max_depth=9, n_estimators=10; total time=   0.1s\n",
      "[CV] END .......criterion=gini, max_depth=9, n_estimators=10; total time=   0.1s\n",
      "[CV] END .......criterion=gini, max_depth=9, n_estimators=10; total time=   0.1s\n",
      "[CV] END .......criterion=gini, max_depth=9, n_estimators=10; total time=   0.1s\n",
      "[CV] END .......criterion=gini, max_depth=9, n_estimators=10; total time=   0.1s\n",
      "[CV] END .......criterion=gini, max_depth=9, n_estimators=30; total time=   0.3s\n",
      "[CV] END .......criterion=gini, max_depth=9, n_estimators=30; total time=   0.3s\n",
      "[CV] END .......criterion=gini, max_depth=9, n_estimators=30; total time=   0.3s\n",
      "[CV] END .......criterion=gini, max_depth=9, n_estimators=30; total time=   0.3s\n",
      "[CV] END .......criterion=gini, max_depth=9, n_estimators=30; total time=   0.3s\n",
      "[CV] END .......criterion=gini, max_depth=9, n_estimators=50; total time=   0.4s\n",
      "[CV] END .......criterion=gini, max_depth=9, n_estimators=50; total time=   0.4s\n",
      "[CV] END .......criterion=gini, max_depth=9, n_estimators=50; total time=   0.4s\n",
      "[CV] END .......criterion=gini, max_depth=9, n_estimators=50; total time=   0.4s\n",
      "[CV] END .......criterion=gini, max_depth=9, n_estimators=50; total time=   0.4s\n",
      "[CV] END .......criterion=gini, max_depth=9, n_estimators=70; total time=   0.6s\n",
      "[CV] END .......criterion=gini, max_depth=9, n_estimators=70; total time=   0.6s\n",
      "[CV] END .......criterion=gini, max_depth=9, n_estimators=70; total time=   0.6s\n",
      "[CV] END .......criterion=gini, max_depth=9, n_estimators=70; total time=   0.6s\n",
      "[CV] END .......criterion=gini, max_depth=9, n_estimators=70; total time=   0.6s\n",
      "[CV] END .......criterion=gini, max_depth=9, n_estimators=90; total time=   0.8s\n",
      "[CV] END .......criterion=gini, max_depth=9, n_estimators=90; total time=   0.8s\n",
      "[CV] END .......criterion=gini, max_depth=9, n_estimators=90; total time=   0.7s\n",
      "[CV] END .......criterion=gini, max_depth=9, n_estimators=90; total time=   0.7s\n",
      "[CV] END .......criterion=gini, max_depth=9, n_estimators=90; total time=   0.7s\n",
      "[CV] END ......criterion=gini, max_depth=9, n_estimators=110; total time=   0.9s\n",
      "[CV] END ......criterion=gini, max_depth=9, n_estimators=110; total time=   0.9s\n",
      "[CV] END ......criterion=gini, max_depth=9, n_estimators=110; total time=   0.9s\n",
      "[CV] END ......criterion=gini, max_depth=9, n_estimators=110; total time=   1.0s\n",
      "[CV] END ......criterion=gini, max_depth=9, n_estimators=110; total time=   0.9s\n",
      "[CV] END ......criterion=gini, max_depth=9, n_estimators=130; total time=   1.1s\n",
      "[CV] END ......criterion=gini, max_depth=9, n_estimators=130; total time=   1.1s\n",
      "[CV] END ......criterion=gini, max_depth=9, n_estimators=130; total time=   1.1s\n",
      "[CV] END ......criterion=gini, max_depth=9, n_estimators=130; total time=   1.1s\n",
      "[CV] END ......criterion=gini, max_depth=9, n_estimators=130; total time=   1.1s\n",
      "[CV] END ......criterion=gini, max_depth=9, n_estimators=150; total time=   1.2s\n",
      "[CV] END ......criterion=gini, max_depth=9, n_estimators=150; total time=   1.2s\n",
      "[CV] END ......criterion=gini, max_depth=9, n_estimators=150; total time=   1.3s\n",
      "[CV] END ......criterion=gini, max_depth=9, n_estimators=150; total time=   1.2s\n",
      "[CV] END ......criterion=gini, max_depth=9, n_estimators=150; total time=   1.3s\n",
      "[CV] END ......criterion=gini, max_depth=9, n_estimators=170; total time=   1.4s\n",
      "[CV] END ......criterion=gini, max_depth=9, n_estimators=170; total time=   1.4s\n",
      "[CV] END ......criterion=gini, max_depth=9, n_estimators=170; total time=   1.4s\n",
      "[CV] END ......criterion=gini, max_depth=9, n_estimators=170; total time=   1.5s\n",
      "[CV] END ......criterion=gini, max_depth=9, n_estimators=170; total time=   1.4s\n",
      "[CV] END ......criterion=gini, max_depth=9, n_estimators=190; total time=   1.6s\n",
      "[CV] END ......criterion=gini, max_depth=9, n_estimators=190; total time=   1.5s\n",
      "[CV] END ......criterion=gini, max_depth=9, n_estimators=190; total time=   1.6s\n",
      "[CV] END ......criterion=gini, max_depth=9, n_estimators=190; total time=   1.6s\n",
      "[CV] END ......criterion=gini, max_depth=9, n_estimators=190; total time=   1.5s\n",
      "[CV] END ....criterion=entropy, max_depth=3, n_estimators=10; total time=   0.1s\n",
      "[CV] END ....criterion=entropy, max_depth=3, n_estimators=10; total time=   0.1s\n",
      "[CV] END ....criterion=entropy, max_depth=3, n_estimators=10; total time=   0.1s\n",
      "[CV] END ....criterion=entropy, max_depth=3, n_estimators=10; total time=   0.1s\n",
      "[CV] END ....criterion=entropy, max_depth=3, n_estimators=10; total time=   0.1s\n",
      "[CV] END ....criterion=entropy, max_depth=3, n_estimators=30; total time=   0.2s\n",
      "[CV] END ....criterion=entropy, max_depth=3, n_estimators=30; total time=   0.2s\n",
      "[CV] END ....criterion=entropy, max_depth=3, n_estimators=30; total time=   0.2s\n",
      "[CV] END ....criterion=entropy, max_depth=3, n_estimators=30; total time=   0.2s\n",
      "[CV] END ....criterion=entropy, max_depth=3, n_estimators=30; total time=   0.2s\n",
      "[CV] END ....criterion=entropy, max_depth=3, n_estimators=50; total time=   0.3s\n",
      "[CV] END ....criterion=entropy, max_depth=3, n_estimators=50; total time=   0.3s\n",
      "[CV] END ....criterion=entropy, max_depth=3, n_estimators=50; total time=   0.3s\n",
      "[CV] END ....criterion=entropy, max_depth=3, n_estimators=50; total time=   0.3s\n",
      "[CV] END ....criterion=entropy, max_depth=3, n_estimators=50; total time=   0.3s\n",
      "[CV] END ....criterion=entropy, max_depth=3, n_estimators=70; total time=   0.4s\n",
      "[CV] END ....criterion=entropy, max_depth=3, n_estimators=70; total time=   0.4s\n",
      "[CV] END ....criterion=entropy, max_depth=3, n_estimators=70; total time=   0.4s\n",
      "[CV] END ....criterion=entropy, max_depth=3, n_estimators=70; total time=   0.4s\n",
      "[CV] END ....criterion=entropy, max_depth=3, n_estimators=70; total time=   0.4s\n",
      "[CV] END ....criterion=entropy, max_depth=3, n_estimators=90; total time=   0.6s\n",
      "[CV] END ....criterion=entropy, max_depth=3, n_estimators=90; total time=   0.5s\n",
      "[CV] END ....criterion=entropy, max_depth=3, n_estimators=90; total time=   0.5s\n",
      "[CV] END ....criterion=entropy, max_depth=3, n_estimators=90; total time=   0.5s\n",
      "[CV] END ....criterion=entropy, max_depth=3, n_estimators=90; total time=   0.5s\n",
      "[CV] END ...criterion=entropy, max_depth=3, n_estimators=110; total time=   0.6s\n",
      "[CV] END ...criterion=entropy, max_depth=3, n_estimators=110; total time=   0.6s\n",
      "[CV] END ...criterion=entropy, max_depth=3, n_estimators=110; total time=   0.6s\n",
      "[CV] END ...criterion=entropy, max_depth=3, n_estimators=110; total time=   0.6s\n",
      "[CV] END ...criterion=entropy, max_depth=3, n_estimators=110; total time=   0.6s\n",
      "[CV] END ...criterion=entropy, max_depth=3, n_estimators=130; total time=   0.7s\n",
      "[CV] END ...criterion=entropy, max_depth=3, n_estimators=130; total time=   0.8s\n",
      "[CV] END ...criterion=entropy, max_depth=3, n_estimators=130; total time=   0.7s\n",
      "[CV] END ...criterion=entropy, max_depth=3, n_estimators=130; total time=   0.7s\n",
      "[CV] END ...criterion=entropy, max_depth=3, n_estimators=130; total time=   0.8s\n",
      "[CV] END ...criterion=entropy, max_depth=3, n_estimators=150; total time=   0.9s\n",
      "[CV] END ...criterion=entropy, max_depth=3, n_estimators=150; total time=   0.9s\n",
      "[CV] END ...criterion=entropy, max_depth=3, n_estimators=150; total time=   0.8s\n",
      "[CV] END ...criterion=entropy, max_depth=3, n_estimators=150; total time=   0.8s\n",
      "[CV] END ...criterion=entropy, max_depth=3, n_estimators=150; total time=   0.9s\n",
      "[CV] END ...criterion=entropy, max_depth=3, n_estimators=170; total time=   1.0s\n",
      "[CV] END ...criterion=entropy, max_depth=3, n_estimators=170; total time=   1.0s\n",
      "[CV] END ...criterion=entropy, max_depth=3, n_estimators=170; total time=   1.0s\n",
      "[CV] END ...criterion=entropy, max_depth=3, n_estimators=170; total time=   0.9s\n",
      "[CV] END ...criterion=entropy, max_depth=3, n_estimators=170; total time=   0.9s\n",
      "[CV] END ...criterion=entropy, max_depth=3, n_estimators=190; total time=   1.0s\n",
      "[CV] END ...criterion=entropy, max_depth=3, n_estimators=190; total time=   1.1s\n",
      "[CV] END ...criterion=entropy, max_depth=3, n_estimators=190; total time=   1.0s\n",
      "[CV] END ...criterion=entropy, max_depth=3, n_estimators=190; total time=   1.1s\n",
      "[CV] END ...criterion=entropy, max_depth=3, n_estimators=190; total time=   1.0s\n",
      "[CV] END ....criterion=entropy, max_depth=5, n_estimators=10; total time=   0.1s\n",
      "[CV] END ....criterion=entropy, max_depth=5, n_estimators=10; total time=   0.1s\n",
      "[CV] END ....criterion=entropy, max_depth=5, n_estimators=10; total time=   0.1s\n",
      "[CV] END ....criterion=entropy, max_depth=5, n_estimators=10; total time=   0.1s\n",
      "[CV] END ....criterion=entropy, max_depth=5, n_estimators=10; total time=   0.1s\n",
      "[CV] END ....criterion=entropy, max_depth=5, n_estimators=30; total time=   0.2s\n",
      "[CV] END ....criterion=entropy, max_depth=5, n_estimators=30; total time=   0.2s\n",
      "[CV] END ....criterion=entropy, max_depth=5, n_estimators=30; total time=   0.2s\n",
      "[CV] END ....criterion=entropy, max_depth=5, n_estimators=30; total time=   0.2s\n",
      "[CV] END ....criterion=entropy, max_depth=5, n_estimators=30; total time=   0.2s\n",
      "[CV] END ....criterion=entropy, max_depth=5, n_estimators=50; total time=   0.4s\n",
      "[CV] END ....criterion=entropy, max_depth=5, n_estimators=50; total time=   0.4s\n",
      "[CV] END ....criterion=entropy, max_depth=5, n_estimators=50; total time=   0.4s\n",
      "[CV] END ....criterion=entropy, max_depth=5, n_estimators=50; total time=   0.4s\n",
      "[CV] END ....criterion=entropy, max_depth=5, n_estimators=50; total time=   0.4s\n",
      "[CV] END ....criterion=entropy, max_depth=5, n_estimators=70; total time=   0.5s\n",
      "[CV] END ....criterion=entropy, max_depth=5, n_estimators=70; total time=   0.5s\n",
      "[CV] END ....criterion=entropy, max_depth=5, n_estimators=70; total time=   0.5s\n",
      "[CV] END ....criterion=entropy, max_depth=5, n_estimators=70; total time=   0.5s\n",
      "[CV] END ....criterion=entropy, max_depth=5, n_estimators=70; total time=   0.5s\n",
      "[CV] END ....criterion=entropy, max_depth=5, n_estimators=90; total time=   0.7s\n",
      "[CV] END ....criterion=entropy, max_depth=5, n_estimators=90; total time=   0.7s\n",
      "[CV] END ....criterion=entropy, max_depth=5, n_estimators=90; total time=   0.6s\n",
      "[CV] END ....criterion=entropy, max_depth=5, n_estimators=90; total time=   0.6s\n",
      "[CV] END ....criterion=entropy, max_depth=5, n_estimators=90; total time=   0.6s\n",
      "[CV] END ...criterion=entropy, max_depth=5, n_estimators=110; total time=   0.8s\n",
      "[CV] END ...criterion=entropy, max_depth=5, n_estimators=110; total time=   0.8s\n",
      "[CV] END ...criterion=entropy, max_depth=5, n_estimators=110; total time=   0.8s\n",
      "[CV] END ...criterion=entropy, max_depth=5, n_estimators=110; total time=   0.8s\n",
      "[CV] END ...criterion=entropy, max_depth=5, n_estimators=110; total time=   0.8s\n",
      "[CV] END ...criterion=entropy, max_depth=5, n_estimators=130; total time=   0.9s\n",
      "[CV] END ...criterion=entropy, max_depth=5, n_estimators=130; total time=   0.9s\n",
      "[CV] END ...criterion=entropy, max_depth=5, n_estimators=130; total time=   0.9s\n",
      "[CV] END ...criterion=entropy, max_depth=5, n_estimators=130; total time=   0.9s\n",
      "[CV] END ...criterion=entropy, max_depth=5, n_estimators=130; total time=   0.9s\n",
      "[CV] END ...criterion=entropy, max_depth=5, n_estimators=150; total time=   1.1s\n",
      "[CV] END ...criterion=entropy, max_depth=5, n_estimators=150; total time=   1.1s\n",
      "[CV] END ...criterion=entropy, max_depth=5, n_estimators=150; total time=   1.1s\n",
      "[CV] END ...criterion=entropy, max_depth=5, n_estimators=150; total time=   1.1s\n",
      "[CV] END ...criterion=entropy, max_depth=5, n_estimators=150; total time=   1.2s\n",
      "[CV] END ...criterion=entropy, max_depth=5, n_estimators=170; total time=   1.3s\n",
      "[CV] END ...criterion=entropy, max_depth=5, n_estimators=170; total time=   1.3s\n",
      "[CV] END ...criterion=entropy, max_depth=5, n_estimators=170; total time=   1.2s\n",
      "[CV] END ...criterion=entropy, max_depth=5, n_estimators=170; total time=   1.3s\n",
      "[CV] END ...criterion=entropy, max_depth=5, n_estimators=170; total time=   1.2s\n",
      "[CV] END ...criterion=entropy, max_depth=5, n_estimators=190; total time=   1.3s\n",
      "[CV] END ...criterion=entropy, max_depth=5, n_estimators=190; total time=   1.5s\n",
      "[CV] END ...criterion=entropy, max_depth=5, n_estimators=190; total time=   1.4s\n",
      "[CV] END ...criterion=entropy, max_depth=5, n_estimators=190; total time=   1.4s\n",
      "[CV] END ...criterion=entropy, max_depth=5, n_estimators=190; total time=   1.4s\n",
      "[CV] END ....criterion=entropy, max_depth=7, n_estimators=10; total time=   0.1s\n",
      "[CV] END ....criterion=entropy, max_depth=7, n_estimators=10; total time=   0.1s\n",
      "[CV] END ....criterion=entropy, max_depth=7, n_estimators=10; total time=   0.1s\n",
      "[CV] END ....criterion=entropy, max_depth=7, n_estimators=10; total time=   0.1s\n",
      "[CV] END ....criterion=entropy, max_depth=7, n_estimators=10; total time=   0.1s\n",
      "[CV] END ....criterion=entropy, max_depth=7, n_estimators=30; total time=   0.3s\n",
      "[CV] END ....criterion=entropy, max_depth=7, n_estimators=30; total time=   0.3s\n",
      "[CV] END ....criterion=entropy, max_depth=7, n_estimators=30; total time=   0.3s\n",
      "[CV] END ....criterion=entropy, max_depth=7, n_estimators=30; total time=   0.3s\n",
      "[CV] END ....criterion=entropy, max_depth=7, n_estimators=30; total time=   0.3s\n",
      "[CV] END ....criterion=entropy, max_depth=7, n_estimators=50; total time=   0.4s\n",
      "[CV] END ....criterion=entropy, max_depth=7, n_estimators=50; total time=   0.5s\n",
      "[CV] END ....criterion=entropy, max_depth=7, n_estimators=50; total time=   0.5s\n",
      "[CV] END ....criterion=entropy, max_depth=7, n_estimators=50; total time=   0.5s\n",
      "[CV] END ....criterion=entropy, max_depth=7, n_estimators=50; total time=   0.5s\n",
      "[CV] END ....criterion=entropy, max_depth=7, n_estimators=70; total time=   0.6s\n",
      "[CV] END ....criterion=entropy, max_depth=7, n_estimators=70; total time=   0.6s\n",
      "[CV] END ....criterion=entropy, max_depth=7, n_estimators=70; total time=   0.7s\n",
      "[CV] END ....criterion=entropy, max_depth=7, n_estimators=70; total time=   0.6s\n",
      "[CV] END ....criterion=entropy, max_depth=7, n_estimators=70; total time=   0.6s\n",
      "[CV] END ....criterion=entropy, max_depth=7, n_estimators=90; total time=   0.9s\n",
      "[CV] END ....criterion=entropy, max_depth=7, n_estimators=90; total time=   0.8s\n",
      "[CV] END ....criterion=entropy, max_depth=7, n_estimators=90; total time=   0.8s\n",
      "[CV] END ....criterion=entropy, max_depth=7, n_estimators=90; total time=   0.8s\n",
      "[CV] END ....criterion=entropy, max_depth=7, n_estimators=90; total time=   0.8s\n",
      "[CV] END ...criterion=entropy, max_depth=7, n_estimators=110; total time=   1.0s\n",
      "[CV] END ...criterion=entropy, max_depth=7, n_estimators=110; total time=   1.0s\n",
      "[CV] END ...criterion=entropy, max_depth=7, n_estimators=110; total time=   1.0s\n",
      "[CV] END ...criterion=entropy, max_depth=7, n_estimators=110; total time=   1.0s\n",
      "[CV] END ...criterion=entropy, max_depth=7, n_estimators=110; total time=   1.0s\n",
      "[CV] END ...criterion=entropy, max_depth=7, n_estimators=130; total time=   1.2s\n",
      "[CV] END ...criterion=entropy, max_depth=7, n_estimators=130; total time=   1.2s\n",
      "[CV] END ...criterion=entropy, max_depth=7, n_estimators=130; total time=   1.2s\n",
      "[CV] END ...criterion=entropy, max_depth=7, n_estimators=130; total time=   1.2s\n",
      "[CV] END ...criterion=entropy, max_depth=7, n_estimators=130; total time=   1.2s\n",
      "[CV] END ...criterion=entropy, max_depth=7, n_estimators=150; total time=   1.4s\n",
      "[CV] END ...criterion=entropy, max_depth=7, n_estimators=150; total time=   1.3s\n",
      "[CV] END ...criterion=entropy, max_depth=7, n_estimators=150; total time=   1.4s\n",
      "[CV] END ...criterion=entropy, max_depth=7, n_estimators=150; total time=   1.4s\n",
      "[CV] END ...criterion=entropy, max_depth=7, n_estimators=150; total time=   1.4s\n",
      "[CV] END ...criterion=entropy, max_depth=7, n_estimators=170; total time=   1.6s\n",
      "[CV] END ...criterion=entropy, max_depth=7, n_estimators=170; total time=   1.6s\n",
      "[CV] END ...criterion=entropy, max_depth=7, n_estimators=170; total time=   1.5s\n",
      "[CV] END ...criterion=entropy, max_depth=7, n_estimators=170; total time=   1.6s\n",
      "[CV] END ...criterion=entropy, max_depth=7, n_estimators=170; total time=   1.5s\n",
      "[CV] END ...criterion=entropy, max_depth=7, n_estimators=190; total time=   1.7s\n",
      "[CV] END ...criterion=entropy, max_depth=7, n_estimators=190; total time=   1.6s\n",
      "[CV] END ...criterion=entropy, max_depth=7, n_estimators=190; total time=   1.7s\n",
      "[CV] END ...criterion=entropy, max_depth=7, n_estimators=190; total time=   1.7s\n",
      "[CV] END ...criterion=entropy, max_depth=7, n_estimators=190; total time=   1.7s\n",
      "[CV] END ....criterion=entropy, max_depth=9, n_estimators=10; total time=   0.1s\n",
      "[CV] END ....criterion=entropy, max_depth=9, n_estimators=10; total time=   0.1s\n",
      "[CV] END ....criterion=entropy, max_depth=9, n_estimators=10; total time=   0.1s\n",
      "[CV] END ....criterion=entropy, max_depth=9, n_estimators=10; total time=   0.1s\n",
      "[CV] END ....criterion=entropy, max_depth=9, n_estimators=10; total time=   0.1s\n",
      "[CV] END ....criterion=entropy, max_depth=9, n_estimators=30; total time=   0.3s\n",
      "[CV] END ....criterion=entropy, max_depth=9, n_estimators=30; total time=   0.3s\n",
      "[CV] END ....criterion=entropy, max_depth=9, n_estimators=30; total time=   0.3s\n",
      "[CV] END ....criterion=entropy, max_depth=9, n_estimators=30; total time=   0.3s\n",
      "[CV] END ....criterion=entropy, max_depth=9, n_estimators=30; total time=   0.3s\n",
      "[CV] END ....criterion=entropy, max_depth=9, n_estimators=50; total time=   0.5s\n",
      "[CV] END ....criterion=entropy, max_depth=9, n_estimators=50; total time=   0.5s\n",
      "[CV] END ....criterion=entropy, max_depth=9, n_estimators=50; total time=   0.5s\n",
      "[CV] END ....criterion=entropy, max_depth=9, n_estimators=50; total time=   0.5s\n",
      "[CV] END ....criterion=entropy, max_depth=9, n_estimators=50; total time=   0.5s\n",
      "[CV] END ....criterion=entropy, max_depth=9, n_estimators=70; total time=   0.7s\n",
      "[CV] END ....criterion=entropy, max_depth=9, n_estimators=70; total time=   0.7s\n",
      "[CV] END ....criterion=entropy, max_depth=9, n_estimators=70; total time=   0.7s\n",
      "[CV] END ....criterion=entropy, max_depth=9, n_estimators=70; total time=   0.7s\n",
      "[CV] END ....criterion=entropy, max_depth=9, n_estimators=70; total time=   0.7s\n",
      "[CV] END ....criterion=entropy, max_depth=9, n_estimators=90; total time=   0.9s\n",
      "[CV] END ....criterion=entropy, max_depth=9, n_estimators=90; total time=   0.9s\n",
      "[CV] END ....criterion=entropy, max_depth=9, n_estimators=90; total time=   1.0s\n",
      "[CV] END ....criterion=entropy, max_depth=9, n_estimators=90; total time=   0.9s\n",
      "[CV] END ....criterion=entropy, max_depth=9, n_estimators=90; total time=   0.9s\n",
      "[CV] END ...criterion=entropy, max_depth=9, n_estimators=110; total time=   1.2s\n",
      "[CV] END ...criterion=entropy, max_depth=9, n_estimators=110; total time=   1.2s\n",
      "[CV] END ...criterion=entropy, max_depth=9, n_estimators=110; total time=   1.1s\n",
      "[CV] END ...criterion=entropy, max_depth=9, n_estimators=110; total time=   1.1s\n",
      "[CV] END ...criterion=entropy, max_depth=9, n_estimators=110; total time=   1.2s\n",
      "[CV] END ...criterion=entropy, max_depth=9, n_estimators=130; total time=   1.4s\n",
      "[CV] END ...criterion=entropy, max_depth=9, n_estimators=130; total time=   1.4s\n",
      "[CV] END ...criterion=entropy, max_depth=9, n_estimators=130; total time=   1.4s\n",
      "[CV] END ...criterion=entropy, max_depth=9, n_estimators=130; total time=   1.3s\n",
      "[CV] END ...criterion=entropy, max_depth=9, n_estimators=130; total time=   1.4s\n",
      "[CV] END ...criterion=entropy, max_depth=9, n_estimators=150; total time=   1.6s\n",
      "[CV] END ...criterion=entropy, max_depth=9, n_estimators=150; total time=   1.6s\n",
      "[CV] END ...criterion=entropy, max_depth=9, n_estimators=150; total time=   1.6s\n",
      "[CV] END ...criterion=entropy, max_depth=9, n_estimators=150; total time=   1.6s\n",
      "[CV] END ...criterion=entropy, max_depth=9, n_estimators=150; total time=   1.6s\n",
      "[CV] END ...criterion=entropy, max_depth=9, n_estimators=170; total time=   1.8s\n",
      "[CV] END ...criterion=entropy, max_depth=9, n_estimators=170; total time=   1.9s\n",
      "[CV] END ...criterion=entropy, max_depth=9, n_estimators=170; total time=   1.8s\n",
      "[CV] END ...criterion=entropy, max_depth=9, n_estimators=170; total time=   1.8s\n",
      "[CV] END ...criterion=entropy, max_depth=9, n_estimators=170; total time=   1.8s\n",
      "[CV] END ...criterion=entropy, max_depth=9, n_estimators=190; total time=   1.9s\n",
      "[CV] END ...criterion=entropy, max_depth=9, n_estimators=190; total time=   2.0s\n",
      "[CV] END ...criterion=entropy, max_depth=9, n_estimators=190; total time=   2.0s\n",
      "[CV] END ...criterion=entropy, max_depth=9, n_estimators=190; total time=   2.0s\n",
      "[CV] END ...criterion=entropy, max_depth=9, n_estimators=190; total time=   2.0s\n",
      "End\n",
      "              precision    recall  f1-score   support\n",
      "\n",
      "           0       0.83      0.93      0.88      3034\n",
      "           1       0.91      0.81      0.86      2966\n",
      "\n",
      "    accuracy                           0.87      6000\n",
      "   macro avg       0.87      0.87      0.87      6000\n",
      "weighted avg       0.87      0.87      0.87      6000\n",
      "\n",
      "[[2810  224]\n",
      " [ 576 2390]]\n"
     ]
    }
   ],
   "source": [
    "from sklearn.model_selection import GridSearchCV\n",
    "\n",
    "\n",
    "knn = RandomForestClassifier()\n",
    "knn_random = GridSearchCV(estimator = knn, param_grid = param_test1,verbose = 2)\n",
    "knn_random.fit(X_train, y_train)\n",
    "\n",
    "print(\"End\")\n",
    "\n",
    "\n",
    "preds = knn_random.predict(X_valid)\n",
    "\n",
    "print(classification_report(y_valid, preds))\n",
    "print(confusion_matrix(y_valid, preds))\n",
    "\n"
   ]
  },
  {
   "cell_type": "code",
   "execution_count": 21,
   "id": "changing-indicator",
   "metadata": {
    "execution": {
     "iopub.execute_input": "2021-06-20T18:22:40.533763Z",
     "iopub.status.busy": "2021-06-20T18:22:40.532697Z",
     "iopub.status.idle": "2021-06-20T18:22:40.539768Z",
     "shell.execute_reply": "2021-06-20T18:22:40.539106Z",
     "shell.execute_reply.started": "2021-06-20T17:21:08.789201Z"
    },
    "papermill": {
     "duration": 0.151537,
     "end_time": "2021-06-20T18:22:40.539911",
     "exception": false,
     "start_time": "2021-06-20T18:22:40.388374",
     "status": "completed"
    },
    "tags": []
   },
   "outputs": [
    {
     "data": {
      "text/plain": [
       "{'cv': None,\n",
       " 'error_score': nan,\n",
       " 'estimator__bootstrap': True,\n",
       " 'estimator__ccp_alpha': 0.0,\n",
       " 'estimator__class_weight': None,\n",
       " 'estimator__criterion': 'gini',\n",
       " 'estimator__max_depth': None,\n",
       " 'estimator__max_features': 'auto',\n",
       " 'estimator__max_leaf_nodes': None,\n",
       " 'estimator__max_samples': None,\n",
       " 'estimator__min_impurity_decrease': 0.0,\n",
       " 'estimator__min_impurity_split': None,\n",
       " 'estimator__min_samples_leaf': 1,\n",
       " 'estimator__min_samples_split': 2,\n",
       " 'estimator__min_weight_fraction_leaf': 0.0,\n",
       " 'estimator__n_estimators': 100,\n",
       " 'estimator__n_jobs': None,\n",
       " 'estimator__oob_score': False,\n",
       " 'estimator__random_state': None,\n",
       " 'estimator__verbose': 0,\n",
       " 'estimator__warm_start': False,\n",
       " 'estimator': RandomForestClassifier(),\n",
       " 'n_jobs': None,\n",
       " 'param_grid': {'n_estimators': range(10, 200, 20),\n",
       "  'max_depth': [3, 5, 7, 9],\n",
       "  'criterion': ['gini', 'entropy']},\n",
       " 'pre_dispatch': '2*n_jobs',\n",
       " 'refit': True,\n",
       " 'return_train_score': False,\n",
       " 'scoring': None,\n",
       " 'verbose': 2}"
      ]
     },
     "execution_count": 21,
     "metadata": {},
     "output_type": "execute_result"
    }
   ],
   "source": [
    "knn_random.get_params() "
   ]
  },
  {
   "cell_type": "code",
   "execution_count": 22,
   "id": "three-glucose",
   "metadata": {
    "execution": {
     "iopub.execute_input": "2021-06-20T18:22:40.824943Z",
     "iopub.status.busy": "2021-06-20T18:22:40.824030Z",
     "iopub.status.idle": "2021-06-20T18:22:40.829129Z",
     "shell.execute_reply": "2021-06-20T18:22:40.828487Z",
     "shell.execute_reply.started": "2021-06-20T18:14:36.957771Z"
    },
    "papermill": {
     "duration": 0.153077,
     "end_time": "2021-06-20T18:22:40.829287",
     "exception": false,
     "start_time": "2021-06-20T18:22:40.676210",
     "status": "completed"
    },
    "tags": []
   },
   "outputs": [],
   "source": [
    "topred = test_data.drop(['Name'],axis=1)\n",
    "topred = topred.drop(['Ticket'],axis=1)\n",
    "topred = topred.drop(['Cabin'],axis=1)\n",
    "topred = topred.drop(['Embarked'],axis=1)\n",
    "topred = topred.drop(['travelled_alone'],axis=1)"
   ]
  },
  {
   "cell_type": "code",
   "execution_count": 23,
   "id": "advance-ground",
   "metadata": {
    "execution": {
     "iopub.execute_input": "2021-06-20T18:22:41.114596Z",
     "iopub.status.busy": "2021-06-20T18:22:41.113893Z",
     "iopub.status.idle": "2021-06-20T18:22:41.117128Z",
     "shell.execute_reply": "2021-06-20T18:22:41.116508Z",
     "shell.execute_reply.started": "2021-06-20T18:16:55.019132Z"
    },
    "papermill": {
     "duration": 0.149133,
     "end_time": "2021-06-20T18:22:41.117283",
     "exception": false,
     "start_time": "2021-06-20T18:22:40.968150",
     "status": "completed"
    },
    "tags": []
   },
   "outputs": [],
   "source": [
    "topred['Fare'].fillna(topred['Fare'].median(), inplace=True)"
   ]
  },
  {
   "cell_type": "code",
   "execution_count": 24,
   "id": "otherwise-encyclopedia",
   "metadata": {
    "execution": {
     "iopub.execute_input": "2021-06-20T18:22:41.399605Z",
     "iopub.status.busy": "2021-06-20T18:22:41.398210Z",
     "iopub.status.idle": "2021-06-20T18:22:41.432807Z",
     "shell.execute_reply": "2021-06-20T18:22:41.432154Z",
     "shell.execute_reply.started": "2021-06-20T18:16:57.819323Z"
    },
    "papermill": {
     "duration": 0.17904,
     "end_time": "2021-06-20T18:22:41.432943",
     "exception": false,
     "start_time": "2021-06-20T18:22:41.253903",
     "status": "completed"
    },
    "tags": []
   },
   "outputs": [
    {
     "name": "stdout",
     "output_type": "stream",
     "text": [
      "              precision    recall  f1-score   support\n",
      "\n",
      "           0       0.83      0.93      0.88      3034\n",
      "           1       0.91      0.81      0.86      2966\n",
      "\n",
      "    accuracy                           0.87      6000\n",
      "   macro avg       0.87      0.87      0.87      6000\n",
      "weighted avg       0.87      0.87      0.87      6000\n",
      "\n",
      "[[2810  224]\n",
      " [ 576 2390]]\n"
     ]
    }
   ],
   "source": [
    "\n",
    "\n",
    "final_pred = knn_random.predict(topred)\n",
    "\n",
    "print(classification_report(y_valid, preds))\n",
    "print(confusion_matrix(y_valid, preds))"
   ]
  },
  {
   "cell_type": "code",
   "execution_count": 25,
   "id": "material-spectacular",
   "metadata": {
    "execution": {
     "iopub.execute_input": "2021-06-20T18:22:41.714768Z",
     "iopub.status.busy": "2021-06-20T18:22:41.713964Z",
     "iopub.status.idle": "2021-06-20T18:22:41.720939Z",
     "shell.execute_reply": "2021-06-20T18:22:41.720387Z",
     "shell.execute_reply.started": "2021-06-20T18:17:12.115000Z"
    },
    "papermill": {
     "duration": 0.15164,
     "end_time": "2021-06-20T18:22:41.721103",
     "exception": false,
     "start_time": "2021-06-20T18:22:41.569463",
     "status": "completed"
    },
    "tags": []
   },
   "outputs": [],
   "source": [
    "submission = pd.DataFrame({\n",
    "        \"PassengerId\": test_data[\"PassengerId\"],\n",
    "        \"Survived\": final_pred\n",
    "    })\n",
    "submission.to_csv('titanic.csv', index=False)"
   ]
  }
 ],
 "metadata": {
  "kernelspec": {
   "display_name": "Python 3",
   "language": "python",
   "name": "python3"
  },
  "language_info": {
   "codemirror_mode": {
    "name": "ipython",
    "version": 3
   },
   "file_extension": ".py",
   "mimetype": "text/x-python",
   "name": "python",
   "nbconvert_exporter": "python",
   "pygments_lexer": "ipython3",
   "version": "3.7.9"
  },
  "papermill": {
   "default_parameters": {},
   "duration": 313.653236,
   "end_time": "2021-06-20T18:22:42.873622",
   "environment_variables": {},
   "exception": null,
   "input_path": "__notebook__.ipynb",
   "output_path": "__notebook__.ipynb",
   "parameters": {},
   "start_time": "2021-06-20T18:17:29.220386",
   "version": "2.3.2"
  }
 },
 "nbformat": 4,
 "nbformat_minor": 5
}
